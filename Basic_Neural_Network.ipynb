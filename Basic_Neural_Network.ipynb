{
  "nbformat": 4,
  "nbformat_minor": 0,
  "metadata": {
    "colab": {
      "provenance": [],
      "toc_visible": true,
      "authorship_tag": "ABX9TyP27Xta6mTiGbaTAVgz9xlb",
      "include_colab_link": true
    },
    "kernelspec": {
      "name": "python3",
      "display_name": "Python 3"
    },
    "language_info": {
      "name": "python"
    }
  },
  "cells": [
    {
      "cell_type": "markdown",
      "metadata": {
        "id": "view-in-github",
        "colab_type": "text"
      },
      "source": [
        "<a href=\"https://colab.research.google.com/github/flycye/Pytorch-Training/blob/main/Basic_Neural_Network.ipynb\" target=\"_parent\"><img src=\"https://colab.research.google.com/assets/colab-badge.svg\" alt=\"Open In Colab\"/></a>"
      ]
    },
    {
      "cell_type": "markdown",
      "source": [
        "# **Features of our Neural Network**\n",
        "\n",
        "We are looking at a data set of iris flowers.\n",
        "[Iris Classic Dataset](https://archive.ics.uci.edu/dataset/53/iris)\n",
        "- sepal length\n",
        "- sepal width\n",
        "- petal length\n",
        "- petal width\n",
        "\n",
        "*the unit of measurement is centimeters for this data set\n",
        "\n",
        "\n",
        "Note how neural networks have fully connected nodes from each layer to its succeeding one.\n",
        "\n",
        "We will train our neural network to classify between the Iris Setosa, Iris Versicolour, and Iris Virginica flowers."
      ],
      "metadata": {
        "id": "_5r8mgZEHw32"
      }
    },
    {
      "cell_type": "code",
      "execution_count": 4,
      "metadata": {
        "id": "wTCkwZxaGTWY"
      },
      "outputs": [],
      "source": [
        "import torch\n",
        "import torch.nn as nn   # import neural network toolkit\n",
        "import torch.nn.functional as F"
      ]
    },
    {
      "cell_type": "markdown",
      "source": [
        "Our input layer (four features)\n",
        "  hidden layers (process data)\n",
        "  output layer (report 3 classifications of flowers) 💐\n",
        "\n",
        "` H1(n) --> H2(n) --> output `\n",
        "\n",
        "  - in_features -> our input features\n",
        "  -  hn -> the current layer that is hidden\n",
        "  - out_features -> our output features\n",
        "\n",
        "Okay, now we need some code to move everything forward . . .\n",
        "\n",
        "> **Rectified Linear Unit (RELU):** Do something, if the output < 0, call it zero. Otherwise, use the output value n\n",
        "\n"
      ],
      "metadata": {
        "id": "0hM5s_TUKzde"
      }
    },
    {
      "cell_type": "code",
      "source": [
        "# create a model class inheriting nn.Module\n",
        "# use OOP with python to train this model. we instantiate a class here\n",
        "\n",
        "class Model(nn.Module):\n",
        "\n",
        "  def __init__(self, in_features = 4, h1 = 8, h2 = 9, out_features = 3):\n",
        "    self.fc1 = nn.Linear(in_features, h1)   # pass to fully connected node\n",
        "    self.fc2 = nn.Linear(h1, h2)\n",
        "    self.out = nn.Linear(h2, out_features)\n",
        "\n",
        "  def forward(self, x):\n",
        "    x = F.relu(self.fc1(x))\n",
        "    x = F.relu(self.fc2(x))\n",
        "    x = F.relu(self.out(x))\n",
        "\n",
        "    return x\n",
        "\n"
      ],
      "metadata": {
        "id": "hzwfMxt0IvsK"
      },
      "execution_count": 6,
      "outputs": []
    }
  ]
}